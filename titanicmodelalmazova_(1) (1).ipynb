{
  "metadata": {
    "kernelspec": {
      "language": "python",
      "display_name": "Python 3",
      "name": "python3"
    },
    "language_info": {
      "name": "python",
      "version": "3.10.14",
      "mimetype": "text/x-python",
      "codemirror_mode": {
        "name": "ipython",
        "version": 3
      },
      "pygments_lexer": "ipython3",
      "nbconvert_exporter": "python",
      "file_extension": ".py"
    },
    "kaggle": {
      "accelerator": "none",
      "dataSources": [
        {
          "sourceId": 9522857,
          "sourceType": "datasetVersion",
          "datasetId": 5798337
        },
        {
          "sourceId": 9585397,
          "sourceType": "datasetVersion",
          "datasetId": 5845374
        }
      ],
      "dockerImageVersionId": 30786,
      "isInternetEnabled": false,
      "language": "python",
      "sourceType": "notebook",
      "isGpuEnabled": false
    },
    "colab": {
      "provenance": []
    }
  },
  "nbformat_minor": 0,
  "nbformat": 4,
  "cells": [
    {
      "cell_type": "markdown",
      "source": [],
      "metadata": {
        "id": "WZPvSoe00_oR"
      }
    },
    {
      "cell_type": "code",
      "source": [
        "# This Python 3 environment comes with many helpful analytics libraries installed\n",
        "# It is defined by the kaggle/python Docker image: https://github.com/kaggle/docker-python\n",
        "# For example, here's several helpful packages to load\n",
        "\n",
        "import numpy as np # linear algebra\n",
        "import pandas as pd # data processing, CSV file I/O (e.g. pd.read_csv)\n",
        "import matplotlib.pyplot as plt\n",
        "\n",
        "# Input data files are available in the read-only \"../input/\" directory\n",
        "# For example, running this (by clicking run or pressing Shift+Enter) will list all files under the input directory\n",
        "\n",
        "import os\n",
        "for dirname, _, filenames in os.walk('/kaggle/input'):\n",
        "    for filename in filenames:\n",
        "        print(os.path.join(dirname, filename))\n",
        "\n",
        "# You can write up to 20GB to the current directory (/kaggle/working/) that gets preserved as output when you create a version using \"Save & Run All\"\n",
        "# You can also write temporary files to /kaggle/temp/, but they won't be saved outside of the current session"
      ],
      "metadata": {
        "_uuid": "a36f2363-e623-4df2-a809-bb1d4cb1f941",
        "_cell_guid": "5b4ebb3b-ef9a-47e9-b439-759b015619dc",
        "jupyter": {
          "outputs_hidden": false
        },
        "execution": {
          "iopub.status.busy": "2024-10-26T14:45:23.277471Z",
          "iopub.execute_input": "2024-10-26T14:45:23.277937Z",
          "iopub.status.idle": "2024-10-26T14:45:23.286463Z",
          "shell.execute_reply.started": "2024-10-26T14:45:23.277877Z",
          "shell.execute_reply": "2024-10-26T14:45:23.285290Z"
        },
        "trusted": true,
        "id": "ngOPU4kA03VR"
      },
      "execution_count": 1,
      "outputs": []
    },
    {
      "cell_type": "code",
      "source": [
        "df = pd.read_csv('/kaggle/input/titanic-df/Titanic.csv')"
      ],
      "metadata": {
        "_uuid": "5ab33379-3919-4745-93bc-89523d4de17e",
        "_cell_guid": "0c0dd390-9580-4951-8006-715f4243ffbb",
        "jupyter": {
          "outputs_hidden": false
        },
        "execution": {
          "iopub.status.busy": "2024-10-26T14:45:23.289529Z",
          "iopub.execute_input": "2024-10-26T14:45:23.290151Z",
          "iopub.status.idle": "2024-10-26T14:45:23.311471Z",
          "shell.execute_reply.started": "2024-10-26T14:45:23.290008Z",
          "shell.execute_reply": "2024-10-26T14:45:23.310097Z"
        },
        "trusted": true,
        "id": "7SNhJpms03VT",
        "colab": {
          "base_uri": "https://localhost:8080/",
          "height": 298
        },
        "outputId": "6c366d4a-b763-49a3-c4b7-b88e7ac474dc"
      },
      "execution_count": 2,
      "outputs": [
        {
          "output_type": "error",
          "ename": "FileNotFoundError",
          "evalue": "[Errno 2] No such file or directory: '/kaggle/input/titanic-df/Titanic.csv'",
          "traceback": [
            "\u001b[0;31m---------------------------------------------------------------------------\u001b[0m",
            "\u001b[0;31mFileNotFoundError\u001b[0m                         Traceback (most recent call last)",
            "\u001b[0;32m<ipython-input-2-a3d5b74cf465>\u001b[0m in \u001b[0;36m<cell line: 1>\u001b[0;34m()\u001b[0m\n\u001b[0;32m----> 1\u001b[0;31m \u001b[0mdf\u001b[0m \u001b[0;34m=\u001b[0m \u001b[0mpd\u001b[0m\u001b[0;34m.\u001b[0m\u001b[0mread_csv\u001b[0m\u001b[0;34m(\u001b[0m\u001b[0;34m'/kaggle/input/titanic-df/Titanic.csv'\u001b[0m\u001b[0;34m)\u001b[0m\u001b[0;34m\u001b[0m\u001b[0;34m\u001b[0m\u001b[0m\n\u001b[0m",
            "\u001b[0;32m/usr/local/lib/python3.10/dist-packages/pandas/io/parsers/readers.py\u001b[0m in \u001b[0;36mread_csv\u001b[0;34m(filepath_or_buffer, sep, delimiter, header, names, index_col, usecols, dtype, engine, converters, true_values, false_values, skipinitialspace, skiprows, skipfooter, nrows, na_values, keep_default_na, na_filter, verbose, skip_blank_lines, parse_dates, infer_datetime_format, keep_date_col, date_parser, date_format, dayfirst, cache_dates, iterator, chunksize, compression, thousands, decimal, lineterminator, quotechar, quoting, doublequote, escapechar, comment, encoding, encoding_errors, dialect, on_bad_lines, delim_whitespace, low_memory, memory_map, float_precision, storage_options, dtype_backend)\u001b[0m\n\u001b[1;32m   1024\u001b[0m     \u001b[0mkwds\u001b[0m\u001b[0;34m.\u001b[0m\u001b[0mupdate\u001b[0m\u001b[0;34m(\u001b[0m\u001b[0mkwds_defaults\u001b[0m\u001b[0;34m)\u001b[0m\u001b[0;34m\u001b[0m\u001b[0;34m\u001b[0m\u001b[0m\n\u001b[1;32m   1025\u001b[0m \u001b[0;34m\u001b[0m\u001b[0m\n\u001b[0;32m-> 1026\u001b[0;31m     \u001b[0;32mreturn\u001b[0m \u001b[0m_read\u001b[0m\u001b[0;34m(\u001b[0m\u001b[0mfilepath_or_buffer\u001b[0m\u001b[0;34m,\u001b[0m \u001b[0mkwds\u001b[0m\u001b[0;34m)\u001b[0m\u001b[0;34m\u001b[0m\u001b[0;34m\u001b[0m\u001b[0m\n\u001b[0m\u001b[1;32m   1027\u001b[0m \u001b[0;34m\u001b[0m\u001b[0m\n\u001b[1;32m   1028\u001b[0m \u001b[0;34m\u001b[0m\u001b[0m\n",
            "\u001b[0;32m/usr/local/lib/python3.10/dist-packages/pandas/io/parsers/readers.py\u001b[0m in \u001b[0;36m_read\u001b[0;34m(filepath_or_buffer, kwds)\u001b[0m\n\u001b[1;32m    618\u001b[0m \u001b[0;34m\u001b[0m\u001b[0m\n\u001b[1;32m    619\u001b[0m     \u001b[0;31m# Create the parser.\u001b[0m\u001b[0;34m\u001b[0m\u001b[0;34m\u001b[0m\u001b[0m\n\u001b[0;32m--> 620\u001b[0;31m     \u001b[0mparser\u001b[0m \u001b[0;34m=\u001b[0m \u001b[0mTextFileReader\u001b[0m\u001b[0;34m(\u001b[0m\u001b[0mfilepath_or_buffer\u001b[0m\u001b[0;34m,\u001b[0m \u001b[0;34m**\u001b[0m\u001b[0mkwds\u001b[0m\u001b[0;34m)\u001b[0m\u001b[0;34m\u001b[0m\u001b[0;34m\u001b[0m\u001b[0m\n\u001b[0m\u001b[1;32m    621\u001b[0m \u001b[0;34m\u001b[0m\u001b[0m\n\u001b[1;32m    622\u001b[0m     \u001b[0;32mif\u001b[0m \u001b[0mchunksize\u001b[0m \u001b[0;32mor\u001b[0m \u001b[0miterator\u001b[0m\u001b[0;34m:\u001b[0m\u001b[0;34m\u001b[0m\u001b[0;34m\u001b[0m\u001b[0m\n",
            "\u001b[0;32m/usr/local/lib/python3.10/dist-packages/pandas/io/parsers/readers.py\u001b[0m in \u001b[0;36m__init__\u001b[0;34m(self, f, engine, **kwds)\u001b[0m\n\u001b[1;32m   1618\u001b[0m \u001b[0;34m\u001b[0m\u001b[0m\n\u001b[1;32m   1619\u001b[0m         \u001b[0mself\u001b[0m\u001b[0;34m.\u001b[0m\u001b[0mhandles\u001b[0m\u001b[0;34m:\u001b[0m \u001b[0mIOHandles\u001b[0m \u001b[0;34m|\u001b[0m \u001b[0;32mNone\u001b[0m \u001b[0;34m=\u001b[0m \u001b[0;32mNone\u001b[0m\u001b[0;34m\u001b[0m\u001b[0;34m\u001b[0m\u001b[0m\n\u001b[0;32m-> 1620\u001b[0;31m         \u001b[0mself\u001b[0m\u001b[0;34m.\u001b[0m\u001b[0m_engine\u001b[0m \u001b[0;34m=\u001b[0m \u001b[0mself\u001b[0m\u001b[0;34m.\u001b[0m\u001b[0m_make_engine\u001b[0m\u001b[0;34m(\u001b[0m\u001b[0mf\u001b[0m\u001b[0;34m,\u001b[0m \u001b[0mself\u001b[0m\u001b[0;34m.\u001b[0m\u001b[0mengine\u001b[0m\u001b[0;34m)\u001b[0m\u001b[0;34m\u001b[0m\u001b[0;34m\u001b[0m\u001b[0m\n\u001b[0m\u001b[1;32m   1621\u001b[0m \u001b[0;34m\u001b[0m\u001b[0m\n\u001b[1;32m   1622\u001b[0m     \u001b[0;32mdef\u001b[0m \u001b[0mclose\u001b[0m\u001b[0;34m(\u001b[0m\u001b[0mself\u001b[0m\u001b[0;34m)\u001b[0m \u001b[0;34m->\u001b[0m \u001b[0;32mNone\u001b[0m\u001b[0;34m:\u001b[0m\u001b[0;34m\u001b[0m\u001b[0;34m\u001b[0m\u001b[0m\n",
            "\u001b[0;32m/usr/local/lib/python3.10/dist-packages/pandas/io/parsers/readers.py\u001b[0m in \u001b[0;36m_make_engine\u001b[0;34m(self, f, engine)\u001b[0m\n\u001b[1;32m   1878\u001b[0m                 \u001b[0;32mif\u001b[0m \u001b[0;34m\"b\"\u001b[0m \u001b[0;32mnot\u001b[0m \u001b[0;32min\u001b[0m \u001b[0mmode\u001b[0m\u001b[0;34m:\u001b[0m\u001b[0;34m\u001b[0m\u001b[0;34m\u001b[0m\u001b[0m\n\u001b[1;32m   1879\u001b[0m                     \u001b[0mmode\u001b[0m \u001b[0;34m+=\u001b[0m \u001b[0;34m\"b\"\u001b[0m\u001b[0;34m\u001b[0m\u001b[0;34m\u001b[0m\u001b[0m\n\u001b[0;32m-> 1880\u001b[0;31m             self.handles = get_handle(\n\u001b[0m\u001b[1;32m   1881\u001b[0m                 \u001b[0mf\u001b[0m\u001b[0;34m,\u001b[0m\u001b[0;34m\u001b[0m\u001b[0;34m\u001b[0m\u001b[0m\n\u001b[1;32m   1882\u001b[0m                 \u001b[0mmode\u001b[0m\u001b[0;34m,\u001b[0m\u001b[0;34m\u001b[0m\u001b[0;34m\u001b[0m\u001b[0m\n",
            "\u001b[0;32m/usr/local/lib/python3.10/dist-packages/pandas/io/common.py\u001b[0m in \u001b[0;36mget_handle\u001b[0;34m(path_or_buf, mode, encoding, compression, memory_map, is_text, errors, storage_options)\u001b[0m\n\u001b[1;32m    871\u001b[0m         \u001b[0;32mif\u001b[0m \u001b[0mioargs\u001b[0m\u001b[0;34m.\u001b[0m\u001b[0mencoding\u001b[0m \u001b[0;32mand\u001b[0m \u001b[0;34m\"b\"\u001b[0m \u001b[0;32mnot\u001b[0m \u001b[0;32min\u001b[0m \u001b[0mioargs\u001b[0m\u001b[0;34m.\u001b[0m\u001b[0mmode\u001b[0m\u001b[0;34m:\u001b[0m\u001b[0;34m\u001b[0m\u001b[0;34m\u001b[0m\u001b[0m\n\u001b[1;32m    872\u001b[0m             \u001b[0;31m# Encoding\u001b[0m\u001b[0;34m\u001b[0m\u001b[0;34m\u001b[0m\u001b[0m\n\u001b[0;32m--> 873\u001b[0;31m             handle = open(\n\u001b[0m\u001b[1;32m    874\u001b[0m                 \u001b[0mhandle\u001b[0m\u001b[0;34m,\u001b[0m\u001b[0;34m\u001b[0m\u001b[0;34m\u001b[0m\u001b[0m\n\u001b[1;32m    875\u001b[0m                 \u001b[0mioargs\u001b[0m\u001b[0;34m.\u001b[0m\u001b[0mmode\u001b[0m\u001b[0;34m,\u001b[0m\u001b[0;34m\u001b[0m\u001b[0;34m\u001b[0m\u001b[0m\n",
            "\u001b[0;31mFileNotFoundError\u001b[0m: [Errno 2] No such file or directory: '/kaggle/input/titanic-df/Titanic.csv'"
          ]
        }
      ]
    },
    {
      "cell_type": "code",
      "source": [
        "df"
      ],
      "metadata": {
        "_uuid": "18f35665-e85f-425b-835e-9702ef3165b4",
        "_cell_guid": "d0aa4a21-db1a-44bd-8242-66740c323b65",
        "jupyter": {
          "outputs_hidden": false
        },
        "execution": {
          "iopub.status.busy": "2024-10-26T14:45:23.313732Z",
          "iopub.execute_input": "2024-10-26T14:45:23.314298Z",
          "iopub.status.idle": "2024-10-26T14:45:23.337483Z",
          "shell.execute_reply.started": "2024-10-26T14:45:23.314244Z",
          "shell.execute_reply": "2024-10-26T14:45:23.336040Z"
        },
        "trusted": true,
        "id": "gdoo0YMF03VT"
      },
      "execution_count": null,
      "outputs": []
    },
    {
      "cell_type": "code",
      "source": [
        "df['Survived'].value_counts() #выжившие 0-умер 1-выжил"
      ],
      "metadata": {
        "_uuid": "85c3e09a-5ab5-4faf-b209-1ee62f75ce03",
        "_cell_guid": "d15e205b-3ccb-4f49-a244-676449cc7d5a",
        "jupyter": {
          "outputs_hidden": false
        },
        "execution": {
          "iopub.status.busy": "2024-10-26T14:45:23.339529Z",
          "iopub.execute_input": "2024-10-26T14:45:23.339944Z",
          "iopub.status.idle": "2024-10-26T14:45:23.354216Z",
          "shell.execute_reply.started": "2024-10-26T14:45:23.339878Z",
          "shell.execute_reply": "2024-10-26T14:45:23.353000Z"
        },
        "trusted": true,
        "id": "Rcd5wT3F03VU"
      },
      "execution_count": null,
      "outputs": []
    },
    {
      "cell_type": "code",
      "source": [
        "df.isnull().sum() # пустые ячейки по столбцам"
      ],
      "metadata": {
        "_uuid": "b3d9f62f-ccfe-4a30-9097-155bc70d0c7a",
        "_cell_guid": "dab7f0b5-3d58-4a2e-b7bd-f5d1c1e51e7f",
        "jupyter": {
          "outputs_hidden": false
        },
        "execution": {
          "iopub.status.busy": "2024-10-26T14:45:23.355940Z",
          "iopub.execute_input": "2024-10-26T14:45:23.356406Z",
          "iopub.status.idle": "2024-10-26T14:45:23.369664Z",
          "shell.execute_reply.started": "2024-10-26T14:45:23.356364Z",
          "shell.execute_reply": "2024-10-26T14:45:23.368395Z"
        },
        "trusted": true,
        "id": "1w9bbTVI03VU"
      },
      "execution_count": null,
      "outputs": []
    },
    {
      "cell_type": "code",
      "source": [
        "df.info()"
      ],
      "metadata": {
        "_uuid": "05de7a0e-7a62-4b1a-ac3e-f6226ec75f44",
        "_cell_guid": "6dcff589-6891-473a-b1bd-875694244801",
        "jupyter": {
          "outputs_hidden": false
        },
        "execution": {
          "iopub.status.busy": "2024-10-26T14:45:23.381643Z",
          "iopub.execute_input": "2024-10-26T14:45:23.382071Z",
          "iopub.status.idle": "2024-10-26T14:45:23.395975Z",
          "shell.execute_reply.started": "2024-10-26T14:45:23.382032Z",
          "shell.execute_reply": "2024-10-26T14:45:23.394563Z"
        },
        "trusted": true,
        "id": "bBUXHTmw03VU"
      },
      "execution_count": null,
      "outputs": []
    },
    {
      "cell_type": "code",
      "source": [
        "df.notnull().sum()"
      ],
      "metadata": {
        "_uuid": "ddb0e6e4-19f2-4710-bcb5-1ed17626e4a7",
        "_cell_guid": "ab7570a0-6850-46f5-ac61-baf36a0041c4",
        "jupyter": {
          "outputs_hidden": false
        },
        "execution": {
          "iopub.status.busy": "2024-10-26T14:45:23.398357Z",
          "iopub.execute_input": "2024-10-26T14:45:23.399378Z",
          "iopub.status.idle": "2024-10-26T14:45:23.413534Z",
          "shell.execute_reply.started": "2024-10-26T14:45:23.399324Z",
          "shell.execute_reply": "2024-10-26T14:45:23.412372Z"
        },
        "trusted": true,
        "id": "t5DpkJ5A03VU"
      },
      "execution_count": null,
      "outputs": []
    },
    {
      "cell_type": "code",
      "source": [
        "import numpy as np\n",
        "#Повлияла ли смерть человека на утерю данных о возрасте\n",
        "\n",
        "total_have_age = df.notnull().sum()['Age']\n",
        "# len(df.loc[(df['Age'].notnull())])\n",
        "total_notHave_age = len(df.loc[(df['Age'].isnull())])\n",
        "have_age_survived = len(df.loc[(df['Age'].notnull() & (df[ 'Survived'] == 1))])\n",
        "notHave_age_survived = len(df.loc[(df['Age'].isnull() & (df[ 'Survived'] == 1))])\n",
        "\n",
        "#Визуализация\n",
        "survivors_counts = {\n",
        "'Выжили': [have_age_survived, notHave_age_survived],\n",
        "'Hе выжили': [total_have_age-have_age_survived, total_notHave_age-notHave_age_survived]\n",
        "}\n",
        "\n",
        "fig, ax = plt.subplots()\n",
        "bottom= np.zeros(2)\n",
        "\n",
        "for key, count in survivors_counts.items():\n",
        "    p = ax.bar(('имеют возраст', 'без возраста'), count, width=0.6, label=key, bottom=bottom)\n",
        "    bottom += count\n",
        "    ax.bar_label(p, label_type='center')\n",
        "\n",
        "# ax.set_title('Распределение выживших в зависимости от пола')\n",
        "# ax.set_ylabel('Количество человек')\n",
        "ax.legend()\n",
        "plt.show()"
      ],
      "metadata": {
        "_uuid": "f862677b-a4be-43fc-a208-7e682669769f",
        "_cell_guid": "260effa9-f7cf-4251-873e-e55ee6d46f65",
        "jupyter": {
          "outputs_hidden": false
        },
        "execution": {
          "iopub.status.busy": "2024-10-26T14:45:23.418263Z",
          "iopub.execute_input": "2024-10-26T14:45:23.419397Z",
          "iopub.status.idle": "2024-10-26T14:45:23.616995Z",
          "shell.execute_reply.started": "2024-10-26T14:45:23.419347Z",
          "shell.execute_reply": "2024-10-26T14:45:23.615385Z"
        },
        "trusted": true,
        "id": "Ng_UFpCN03VV"
      },
      "execution_count": null,
      "outputs": []
    },
    {
      "cell_type": "code",
      "source": [
        "df['Age'].fillna(df['Age'].median(),inplace=True)#заполняет пустые поля вораста средним значением"
      ],
      "metadata": {
        "_uuid": "b5a71795-8acd-421b-9070-35d97c40a5a5",
        "_cell_guid": "1b7d8f6e-4bbb-419a-b26f-603bd7c00ca5",
        "jupyter": {
          "outputs_hidden": false
        },
        "execution": {
          "iopub.status.busy": "2024-10-26T14:45:23.619349Z",
          "iopub.execute_input": "2024-10-26T14:45:23.619918Z",
          "iopub.status.idle": "2024-10-26T14:45:23.628038Z",
          "shell.execute_reply.started": "2024-10-26T14:45:23.619841Z",
          "shell.execute_reply": "2024-10-26T14:45:23.626587Z"
        },
        "trusted": true,
        "id": "IfaDTXXM03VV"
      },
      "execution_count": null,
      "outputs": []
    },
    {
      "cell_type": "code",
      "source": [
        "import numpy as np\n",
        "#влияло ли выживание женщит от наличия у них детей\n",
        "\n",
        "females_notchildren_total = len(df.loc[ (df ['Sex'] == 'female') & (df['Age'] > 18) & (df['Parch'] == 0)])\n",
        "females_havechildren_total = len(df.loc[ (df ['Sex'] == 'female') & (df['Age'] > 18) & (df['Parch'] > 0)])\n",
        "females_notchildren_survived = len(df.loc[ (df ['Sex'] == 'female') & (df['Age'] > 18) & (df['Parch'] == 0) & (df[ 'Survived'] == 1)])\n",
        "females_havechildren_survived = len(df.loc[ (df ['Sex'] == 'female') & (df['Age'] > 18) & (df['Parch'] > 0) & (df[ 'Survived'] == 1)])\n",
        "\n",
        "#Визуализация\n",
        "survivors_counts = {\n",
        "'Выжили': [females_notchildren_survived, females_havechildren_survived],\n",
        "'Hе выжили': [females_notchildren_total-females_notchildren_survived, females_havechildren_total-females_havechildren_survived]\n",
        "}\n",
        "\n",
        "fig, ax = plt.subplots()\n",
        "bottom= np.zeros(2)\n",
        "\n",
        "for key, count in survivors_counts.items():\n",
        "    p = ax.bar(('без детей', 'с детьми'), count, width=0.6, label=key, bottom=bottom)\n",
        "    bottom += count\n",
        "    ax.bar_label(p, label_type='center')\n",
        "\n",
        "# ax.set_title('Распределение выживших в зависимости от пола')\n",
        "# ax.set_ylabel('Количество человек')\n",
        "ax.legend()\n",
        "plt.show()"
      ],
      "metadata": {
        "_uuid": "dbe9313f-fcbd-4973-a723-fec67c1732a8",
        "_cell_guid": "7e90ef48-2f73-4d5c-803e-c8d68f5ea9ba",
        "jupyter": {
          "outputs_hidden": false
        },
        "execution": {
          "iopub.status.busy": "2024-10-26T14:45:23.629453Z",
          "iopub.execute_input": "2024-10-26T14:45:23.629815Z",
          "iopub.status.idle": "2024-10-26T14:45:23.840275Z",
          "shell.execute_reply.started": "2024-10-26T14:45:23.629781Z",
          "shell.execute_reply": "2024-10-26T14:45:23.839159Z"
        },
        "trusted": true,
        "id": "zcUfNKrE03VW"
      },
      "execution_count": null,
      "outputs": []
    },
    {
      "cell_type": "code",
      "source": [
        "df.loc[ (df ['Sex'] == 'female') & (df['Age'] > 18) & (df['Parch'] > 0) & (df[ 'Survived'] == 0)]"
      ],
      "metadata": {
        "_uuid": "4a3deac5-47a4-49a1-80fd-2a7c28998eb2",
        "_cell_guid": "84e840a9-fe35-4946-973f-7b39a43ca570",
        "jupyter": {
          "outputs_hidden": false
        },
        "execution": {
          "iopub.status.busy": "2024-10-26T14:45:23.843295Z",
          "iopub.execute_input": "2024-10-26T14:45:23.843780Z",
          "iopub.status.idle": "2024-10-26T14:45:23.868430Z",
          "shell.execute_reply.started": "2024-10-26T14:45:23.843729Z",
          "shell.execute_reply": "2024-10-26T14:45:23.867189Z"
        },
        "trusted": true,
        "id": "OVbIaSmr03VW"
      },
      "execution_count": null,
      "outputs": []
    },
    {
      "cell_type": "code",
      "source": [
        "import numpy as np\n",
        "#Проверка повлияла ли смерть человека на утерю данных каюты\n",
        "total_have_сabin = df.notnull().sum()['Cabin']\n",
        "total_notHave_сabin = len(df.loc[(df['Cabin'].isnull())])\n",
        "have_сabin_survived = len(df.loc[(df['Cabin'].notnull() & (df[ 'Survived'] == 1))])\n",
        "notHave_сabin_survived = len(df.loc[(df['Cabin'].isnull() & (df[ 'Survived'] == 1))])\n",
        "\n",
        "survivors_counts = {\n",
        "'Выжили': [have_сabin_survived, notHave_сabin_survived],\n",
        "'Hе выжили': [total_have_сabin-have_сabin_survived, total_notHave_сabin-notHave_сabin_survived]\n",
        "}\n",
        "\n",
        "fig, ax = plt.subplots()\n",
        "bottom= np.zeros(2)\n",
        "\n",
        "for key, count in survivors_counts.items():\n",
        "    p = ax.bar(('известна каюта', 'неизвестна каюта'), count, width=0.6, label=key, bottom=bottom)\n",
        "    bottom += count\n",
        "    ax.bar_label(p, label_type='center')\n",
        "\n",
        "ax.legend()\n",
        "plt.show()"
      ],
      "metadata": {
        "_uuid": "d62fe2ae-af0e-4c8f-9fab-194d3b727aec",
        "_cell_guid": "6f8975ee-c94d-436f-b9d8-d64f06af362a",
        "jupyter": {
          "outputs_hidden": false
        },
        "execution": {
          "iopub.status.busy": "2024-10-26T14:45:23.869935Z",
          "iopub.execute_input": "2024-10-26T14:45:23.870311Z",
          "iopub.status.idle": "2024-10-26T14:45:24.073478Z",
          "shell.execute_reply.started": "2024-10-26T14:45:23.870272Z",
          "shell.execute_reply": "2024-10-26T14:45:24.072396Z"
        },
        "trusted": true,
        "id": "MO88_Xpn03VX"
      },
      "execution_count": null,
      "outputs": []
    },
    {
      "cell_type": "code",
      "source": [
        "import seaborn as sns\n",
        "\n",
        "df['Relatives'] = df['SibSp'] + df['Parch']\n",
        "\n",
        "plt.figure(figsize=(10, 6))\n",
        "relatives_survived = df.groupby(['Relatives', 'Survived']).size().reset_index(name='Count')\n",
        "sns.barplot(x='Relatives', y='Count', hue='Survived', data=relatives_survived, palette='viridis')\n",
        "plt.title('Выживание на основе количества родственников на борту')\n",
        "plt.xlabel('количество родственников')\n",
        "plt.ylabel('Количество')\n",
        "plt.legend(title='выжили', loc='upper right')\n",
        "\n",
        "plt.show()"
      ],
      "metadata": {
        "_uuid": "e13d4f2c-1b50-4990-9403-79fc25df0fbd",
        "_cell_guid": "cbb2e9d9-29ca-476d-842c-85f5926aa22f",
        "jupyter": {
          "outputs_hidden": false
        },
        "execution": {
          "iopub.status.busy": "2024-10-26T14:45:24.075341Z",
          "iopub.execute_input": "2024-10-26T14:45:24.075759Z",
          "iopub.status.idle": "2024-10-26T14:45:24.405690Z",
          "shell.execute_reply.started": "2024-10-26T14:45:24.075720Z",
          "shell.execute_reply": "2024-10-26T14:45:24.404645Z"
        },
        "trusted": true,
        "id": "ZCeLK0fI03VX"
      },
      "execution_count": null,
      "outputs": []
    },
    {
      "cell_type": "code",
      "source": [
        "plt.figure(figsize=(10, 6))\n",
        "relatives_survived = df.groupby(['SibSp', 'Survived']).size().reset_index(name='Count')\n",
        "sns.barplot(x='SibSp', y='Count', hue='Survived', data=relatives_survived, palette='viridis')\n",
        "plt.title('Выживание на основе количества родственников на борту')\n",
        "plt.xlabel('количество братьев/сестер')\n",
        "plt.ylabel('Количество')\n",
        "plt.legend(title='выжили', loc='upper right')\n",
        "\n",
        "plt.show()"
      ],
      "metadata": {
        "_uuid": "5ce94b03-ff06-4863-a604-676773809e6d",
        "_cell_guid": "7190ec04-8866-4a21-afc6-259105bbd365",
        "jupyter": {
          "outputs_hidden": false
        },
        "execution": {
          "iopub.status.busy": "2024-10-26T14:45:24.407161Z",
          "iopub.execute_input": "2024-10-26T14:45:24.407525Z",
          "iopub.status.idle": "2024-10-26T14:45:24.723143Z",
          "shell.execute_reply.started": "2024-10-26T14:45:24.407487Z",
          "shell.execute_reply": "2024-10-26T14:45:24.721846Z"
        },
        "trusted": true,
        "id": "IdFFtyR_03VX"
      },
      "execution_count": null,
      "outputs": []
    },
    {
      "cell_type": "code",
      "source": [
        "plt.figure(figsize=(8, 6))\n",
        "sns.countplot(x='Pclass', hue='Survived', data=df, palette ='plasma')\n",
        "\n",
        "# Set plot labels and title\n",
        "plt.title('Выживание по классам кают')\n",
        "plt.xlabel('Класс пассажира')\n",
        "plt.ylabel('количество')\n",
        "plt.xticks([0, 1, 2], ['1 класс', '2 класс', '3 класс'])\n",
        "plt.legend(title='выжили', loc='upper right')\n",
        "\n",
        "# Show plot\n",
        "plt.show()"
      ],
      "metadata": {
        "_uuid": "97f900fb-715b-42c6-86a0-12f8851842a4",
        "_cell_guid": "e89abf9a-0b55-4469-a972-73814e97f81f",
        "jupyter": {
          "outputs_hidden": false
        },
        "execution": {
          "iopub.status.busy": "2024-10-26T14:45:24.724955Z",
          "iopub.execute_input": "2024-10-26T14:45:24.725435Z",
          "iopub.status.idle": "2024-10-26T14:45:24.960095Z",
          "shell.execute_reply.started": "2024-10-26T14:45:24.725382Z",
          "shell.execute_reply": "2024-10-26T14:45:24.958939Z"
        },
        "trusted": true,
        "id": "cYkBDUDG03VX"
      },
      "execution_count": null,
      "outputs": []
    },
    {
      "cell_type": "code",
      "source": [
        "categorical_cols = df.select_dtypes(include=['object']).columns\n",
        "label_encoders = {}"
      ],
      "metadata": {
        "_uuid": "9b772270-a40f-4b93-9f8a-f058b48d02c4",
        "_cell_guid": "59dada8d-e0fd-4e9b-8537-3563f6a8cca9",
        "jupyter": {
          "outputs_hidden": false
        },
        "execution": {
          "iopub.status.busy": "2024-10-26T14:45:24.961626Z",
          "iopub.execute_input": "2024-10-26T14:45:24.962118Z",
          "iopub.status.idle": "2024-10-26T14:45:24.968712Z",
          "shell.execute_reply.started": "2024-10-26T14:45:24.962070Z",
          "shell.execute_reply": "2024-10-26T14:45:24.967624Z"
        },
        "trusted": true,
        "id": "4y1HRX4e03VY"
      },
      "execution_count": null,
      "outputs": []
    },
    {
      "cell_type": "code",
      "source": [
        "categorical_cols"
      ],
      "metadata": {
        "_uuid": "2721cd25-51cd-404b-8217-3315b6452de3",
        "_cell_guid": "8ad15674-51fe-4172-9170-21cae61c4155",
        "jupyter": {
          "outputs_hidden": false
        },
        "execution": {
          "iopub.status.busy": "2024-10-26T14:45:24.972859Z",
          "iopub.execute_input": "2024-10-26T14:45:24.973345Z",
          "iopub.status.idle": "2024-10-26T14:45:24.982216Z",
          "shell.execute_reply.started": "2024-10-26T14:45:24.973297Z",
          "shell.execute_reply": "2024-10-26T14:45:24.981067Z"
        },
        "trusted": true,
        "id": "PRjY2tTz03VY"
      },
      "execution_count": null,
      "outputs": []
    },
    {
      "cell_type": "code",
      "source": [
        "from sklearn.preprocessing import LabelEncoder\n",
        "for col in categorical_cols:\n",
        "    le = LabelEncoder()\n",
        "    df[col] = le.fit_transform(df[col])\n",
        "    label_encoders[col] = le"
      ],
      "metadata": {
        "_uuid": "acbdf31c-5b0e-4c5c-8478-a6327f59b33e",
        "_cell_guid": "3fab15e3-5324-4b0b-9d30-6e4db1364ede",
        "jupyter": {
          "outputs_hidden": false
        },
        "execution": {
          "iopub.status.busy": "2024-10-26T14:45:24.983729Z",
          "iopub.execute_input": "2024-10-26T14:45:24.985034Z",
          "iopub.status.idle": "2024-10-26T14:45:24.999686Z",
          "shell.execute_reply.started": "2024-10-26T14:45:24.984991Z",
          "shell.execute_reply": "2024-10-26T14:45:24.998460Z"
        },
        "trusted": true,
        "id": "obJVI2g003VY"
      },
      "execution_count": null,
      "outputs": []
    },
    {
      "cell_type": "code",
      "source": [
        "df"
      ],
      "metadata": {
        "_uuid": "c7700250-0fb3-4cc2-80aa-0c0cda9329d3",
        "_cell_guid": "655b8cf3-aa5a-488c-af2d-65791f35f301",
        "jupyter": {
          "outputs_hidden": false
        },
        "execution": {
          "iopub.status.busy": "2024-10-26T14:45:25.001078Z",
          "iopub.execute_input": "2024-10-26T14:45:25.001452Z",
          "iopub.status.idle": "2024-10-26T14:45:25.025960Z",
          "shell.execute_reply.started": "2024-10-26T14:45:25.001414Z",
          "shell.execute_reply": "2024-10-26T14:45:25.024633Z"
        },
        "trusted": true,
        "id": "2nVNk64103VY"
      },
      "execution_count": null,
      "outputs": []
    },
    {
      "cell_type": "code",
      "source": [
        "df.isnull().sum()"
      ],
      "metadata": {
        "_uuid": "16a1a1a9-01c1-4b93-b2fd-37ddeb9c8013",
        "_cell_guid": "44f79f4d-c188-4344-8f77-d49238cd7b10",
        "jupyter": {
          "outputs_hidden": false
        },
        "execution": {
          "iopub.status.busy": "2024-10-26T14:45:25.027507Z",
          "iopub.execute_input": "2024-10-26T14:45:25.027945Z",
          "iopub.status.idle": "2024-10-26T14:45:25.041330Z",
          "shell.execute_reply.started": "2024-10-26T14:45:25.027903Z",
          "shell.execute_reply": "2024-10-26T14:45:25.040131Z"
        },
        "trusted": true,
        "id": "oxkyfz0q03VY"
      },
      "execution_count": null,
      "outputs": []
    },
    {
      "cell_type": "code",
      "source": [
        "df['Age'].fillna(df['Age'].median(),inplace=True)#заполняет пустые поля вораста средним значением"
      ],
      "metadata": {
        "_uuid": "06a4d3e3-4e2f-4e95-8326-0d2e545e39f0",
        "_cell_guid": "58de05d1-3cfb-4929-8d9a-f743a00a29ba",
        "jupyter": {
          "outputs_hidden": false
        },
        "execution": {
          "iopub.status.busy": "2024-10-26T14:45:25.042356Z",
          "iopub.execute_input": "2024-10-26T14:45:25.042696Z",
          "iopub.status.idle": "2024-10-26T14:45:25.054455Z",
          "shell.execute_reply.started": "2024-10-26T14:45:25.042659Z",
          "shell.execute_reply": "2024-10-26T14:45:25.053096Z"
        },
        "trusted": true,
        "id": "JkNIev-G03VY"
      },
      "execution_count": null,
      "outputs": []
    },
    {
      "cell_type": "code",
      "source": [
        "df.isnull().sum()"
      ],
      "metadata": {
        "_uuid": "0f314734-3ec4-40d8-bd48-8ac5312da6a6",
        "_cell_guid": "9f1e4e8f-ce24-4f0d-956b-589b85e0fff5",
        "jupyter": {
          "outputs_hidden": false
        },
        "execution": {
          "iopub.status.busy": "2024-10-26T14:45:25.055726Z",
          "iopub.execute_input": "2024-10-26T14:45:25.056102Z",
          "iopub.status.idle": "2024-10-26T14:45:25.071198Z",
          "shell.execute_reply.started": "2024-10-26T14:45:25.056065Z",
          "shell.execute_reply": "2024-10-26T14:45:25.069978Z"
        },
        "trusted": true,
        "id": "b3K3cgVq03VY"
      },
      "execution_count": null,
      "outputs": []
    },
    {
      "cell_type": "code",
      "source": [
        "X = df.drop(columns=['Survived', 'PassengerId'])\n",
        "y = df['Survived']"
      ],
      "metadata": {
        "_uuid": "518fd3ff-9b4e-46ea-a6cc-8c6a03e1a98d",
        "_cell_guid": "31e3747a-ad91-44c2-a148-bc357c8bd5f5",
        "jupyter": {
          "outputs_hidden": false
        },
        "execution": {
          "iopub.status.busy": "2024-10-26T14:45:25.072407Z",
          "iopub.execute_input": "2024-10-26T14:45:25.072794Z",
          "iopub.status.idle": "2024-10-26T14:45:25.086112Z",
          "shell.execute_reply.started": "2024-10-26T14:45:25.072755Z",
          "shell.execute_reply": "2024-10-26T14:45:25.084969Z"
        },
        "trusted": true,
        "id": "-C2pwIgW03VZ"
      },
      "execution_count": null,
      "outputs": []
    },
    {
      "cell_type": "code",
      "source": [
        "df['Age'].unique()"
      ],
      "metadata": {
        "_uuid": "7fd8f361-2473-4fdd-b1e9-8779a916da4a",
        "_cell_guid": "207893a4-efcd-482c-8367-c328f6a2fb67",
        "jupyter": {
          "outputs_hidden": false
        },
        "execution": {
          "iopub.status.busy": "2024-10-26T14:45:25.087707Z",
          "iopub.execute_input": "2024-10-26T14:45:25.088462Z",
          "iopub.status.idle": "2024-10-26T14:45:25.102857Z",
          "shell.execute_reply.started": "2024-10-26T14:45:25.088404Z",
          "shell.execute_reply": "2024-10-26T14:45:25.101516Z"
        },
        "trusted": true,
        "id": "Z5drGUmw03VZ"
      },
      "execution_count": null,
      "outputs": []
    },
    {
      "cell_type": "code",
      "source": [
        "X"
      ],
      "metadata": {
        "_uuid": "f1857450-af5a-42df-8b7a-157d79e4200a",
        "_cell_guid": "da6fb545-8ed5-4ae2-bb1c-7d23957c2314",
        "jupyter": {
          "outputs_hidden": false
        },
        "execution": {
          "iopub.status.busy": "2024-10-26T14:45:25.104276Z",
          "iopub.execute_input": "2024-10-26T14:45:25.104642Z",
          "iopub.status.idle": "2024-10-26T14:45:25.126721Z",
          "shell.execute_reply.started": "2024-10-26T14:45:25.104606Z",
          "shell.execute_reply": "2024-10-26T14:45:25.125565Z"
        },
        "trusted": true,
        "id": "KSlVjAyt03VZ"
      },
      "execution_count": null,
      "outputs": []
    },
    {
      "cell_type": "code",
      "source": [
        "df['Survived'].value_counts()"
      ],
      "metadata": {
        "_uuid": "9c31ccc0-e279-44a9-94bc-5035e78e6fe4",
        "_cell_guid": "40669506-d591-42a1-9bb4-93006e4dda7b",
        "jupyter": {
          "outputs_hidden": false
        },
        "execution": {
          "iopub.status.busy": "2024-10-26T14:45:25.128345Z",
          "iopub.execute_input": "2024-10-26T14:45:25.128815Z",
          "iopub.status.idle": "2024-10-26T14:45:25.141480Z",
          "shell.execute_reply.started": "2024-10-26T14:45:25.128764Z",
          "shell.execute_reply": "2024-10-26T14:45:25.140102Z"
        },
        "trusted": true,
        "id": "43_LL7mJ03VZ"
      },
      "execution_count": null,
      "outputs": []
    },
    {
      "cell_type": "markdown",
      "source": [
        "Modeling"
      ],
      "metadata": {
        "_uuid": "7bdfc6c4-b303-41c6-a705-d1d8cd52f349",
        "_cell_guid": "c1e3a508-6576-4c08-98f7-b87889db6e8a",
        "trusted": true,
        "id": "v0Hms9iE03VZ"
      }
    },
    {
      "cell_type": "code",
      "source": [
        "df.corr()"
      ],
      "metadata": {
        "_uuid": "45ea9878-8aa2-4319-aed2-35275879320c",
        "_cell_guid": "f34f76e9-6bbf-435f-afc7-fc964c354f82",
        "jupyter": {
          "outputs_hidden": false
        },
        "execution": {
          "iopub.status.busy": "2024-10-26T14:45:25.143060Z",
          "iopub.execute_input": "2024-10-26T14:45:25.143517Z",
          "iopub.status.idle": "2024-10-26T14:45:25.173720Z",
          "shell.execute_reply.started": "2024-10-26T14:45:25.143467Z",
          "shell.execute_reply": "2024-10-26T14:45:25.172578Z"
        },
        "trusted": true,
        "id": "R1_cTsUy03Va"
      },
      "execution_count": null,
      "outputs": []
    },
    {
      "cell_type": "code",
      "source": [
        "import numpy as np\n",
        "np.var(df['Sex'])"
      ],
      "metadata": {
        "_uuid": "1c4ec577-fbe4-4eb9-9a23-3426e0b758e4",
        "_cell_guid": "5b91f0ba-7afb-4856-808b-4cca99587fd3",
        "jupyter": {
          "outputs_hidden": false
        },
        "execution": {
          "iopub.status.busy": "2024-10-26T14:45:25.175332Z",
          "iopub.execute_input": "2024-10-26T14:45:25.175808Z",
          "iopub.status.idle": "2024-10-26T14:45:25.184396Z",
          "shell.execute_reply.started": "2024-10-26T14:45:25.175757Z",
          "shell.execute_reply": "2024-10-26T14:45:25.183115Z"
        },
        "trusted": true,
        "id": "mjXAkpA203Va"
      },
      "execution_count": null,
      "outputs": []
    },
    {
      "cell_type": "markdown",
      "source": [
        "A100 - 2m"
      ],
      "metadata": {
        "_uuid": "3e2009ca-6c1c-4b96-8cc9-dd237852b691",
        "_cell_guid": "a743fe55-9360-4316-8c40-c8fc282d7ada",
        "trusted": true,
        "id": "FlWLUPOt03Va"
      }
    },
    {
      "cell_type": "code",
      "source": [
        "#feature_importances"
      ],
      "metadata": {
        "_uuid": "c89aba57-6022-4128-a617-9a3a12aef451",
        "_cell_guid": "cb1149a1-54a1-4844-98b3-aa1251c6e16a",
        "jupyter": {
          "outputs_hidden": false
        },
        "execution": {
          "iopub.status.busy": "2024-10-26T14:45:25.185687Z",
          "iopub.execute_input": "2024-10-26T14:45:25.186074Z",
          "iopub.status.idle": "2024-10-26T14:45:25.194783Z",
          "shell.execute_reply.started": "2024-10-26T14:45:25.186033Z",
          "shell.execute_reply": "2024-10-26T14:45:25.193444Z"
        },
        "trusted": true,
        "id": "P0XzW_kD03Va"
      },
      "execution_count": null,
      "outputs": []
    },
    {
      "cell_type": "code",
      "source": [
        "import numpy as np\n",
        "from sklearn.model_selection import train_test_split\n",
        "from sklearn.datasets import make_classification\n",
        "from sklearn.preprocessing import StandardScaler\n",
        "from keras.models import Sequential\n",
        "from keras.layers import Dense\n",
        "from keras.regularizers import l2\n",
        "from tensorflow.keras.layers import Dropout\n",
        "\n",
        "\n",
        "# Train-test split\n",
        "X_train, X_test, y_train, y_test = train_test_split(X, y, test_size=0.2, random_state=42)\n",
        "\n",
        "# Standardize the data\n",
        "scaler = StandardScaler()\n",
        "X_train = scaler.fit_transform(X_train)\n",
        "X_test = scaler.transform(X_test)\n",
        "\n",
        "# Create the neural network model\n",
        "'''\n",
        "model.add(Dense(32, activation='relu', input_shape=(X_train.shape[1],)))\n",
        "model.add(Dense(16, activation='relu'))\n",
        "model.add(Dense(1, activation='sigmoid'))'''\n",
        "model = Sequential()\n",
        "#добавление слоев и регуляризации весов ядер\n",
        "model.add(Dense(128, activation='relu', input_shape=(X_train.shape[1],)))\n",
        "model.add(Dropout(0.2))\n",
        "model.add(Dense(64, activation='relu'))\n",
        "model.add(Dropout(0.2))# случайное отключение нейронов\n",
        "model.add(Dense(32, activation='relu'))\n",
        "model.add(Dense(1, activation='sigmoid'))\n",
        "\n",
        "# Compile the model\n",
        "model.compile(optimizer='adam', loss='binary_crossentropy', metrics=['accuracy'])\n",
        "\n",
        "# Train the model\n",
        "model.fit(X_train, y_train, epochs=13, batch_size=128, validation_split=0.2)\n",
        "\n",
        "# Evaluate the model\n",
        "loss_old, accuracy_old = model.evaluate(X_test, y_test)\n",
        "print(f'Старая модель - Точность на тестовом наборе: {accuracy_old:.2f}')"
      ],
      "metadata": {
        "_uuid": "ebadcef2-5a38-461e-92fb-ddc1508489f5",
        "_cell_guid": "89780e0b-6346-40d8-a2ed-603e1a4ac3b8",
        "jupyter": {
          "outputs_hidden": false
        },
        "execution": {
          "iopub.status.busy": "2024-10-26T14:45:25.196270Z",
          "iopub.execute_input": "2024-10-26T14:45:25.196643Z",
          "iopub.status.idle": "2024-10-26T14:45:28.004322Z",
          "shell.execute_reply.started": "2024-10-26T14:45:25.196604Z",
          "shell.execute_reply": "2024-10-26T14:45:28.003180Z"
        },
        "trusted": true,
        "id": "ky0H0-4503Vb"
      },
      "execution_count": null,
      "outputs": []
    },
    {
      "cell_type": "markdown",
      "source": [],
      "metadata": {
        "_uuid": "d996dc30-4960-4fcb-a314-f75f4d8af675",
        "_cell_guid": "0f840704-f4d4-4810-b8ba-552ab371fc4b",
        "trusted": true,
        "id": "QfUvPjL303Vb"
      }
    },
    {
      "cell_type": "markdown",
      "source": [
        ".pkl .h5 .gguf"
      ],
      "metadata": {
        "_uuid": "cabdc139-921b-42ea-ae69-aec2628dce8e",
        "_cell_guid": "8b59150c-e4f8-4f42-9ade-214a2e371598",
        "trusted": true,
        "id": "sfv5lM-C03Vb"
      }
    },
    {
      "cell_type": "code",
      "source": [
        "import matplotlib.pyplot as plt\n",
        "%matplotlib inline\n",
        "history = model.fit(X_train, y_train, epochs=10, batch_size=32, validation_split=0.2)\n",
        "plt.plot(history.history['loss'])\n",
        "plt.plot(history.history['val_loss'])\n",
        "plt.title('model loss')\n",
        "plt.ylabel('loss')\n",
        "plt.xlabel('epoch')\n",
        "plt.legend(['train', 'val'], loc='upper left')\n",
        "plt.show()"
      ],
      "metadata": {
        "execution": {
          "iopub.status.busy": "2024-10-26T14:45:28.005954Z",
          "iopub.execute_input": "2024-10-26T14:45:28.006417Z",
          "iopub.status.idle": "2024-10-26T14:45:30.049443Z",
          "shell.execute_reply.started": "2024-10-26T14:45:28.006365Z",
          "shell.execute_reply": "2024-10-26T14:45:30.048262Z"
        },
        "trusted": true,
        "id": "bhqwXN4N03Vb"
      },
      "execution_count": null,
      "outputs": []
    },
    {
      "cell_type": "code",
      "source": [
        "import numpy as np\n",
        "import pandas as pd\n",
        "from sklearn.model_selection import train_test_split, StratifiedKFold\n",
        "from sklearn.preprocessing import StandardScaler, LabelEncoder\n",
        "from sklearn.metrics import classification_report, confusion_matrix\n",
        "from keras.models import Sequential\n",
        "from keras.layers import Dense, Dropout\n",
        "from keras.regularizers import l2\n",
        "from tensorflow.keras.utils import to_categorical\n",
        "import joblib\n",
        "\n",
        "\n",
        "# Новая модель с кросс-валидацией\n",
        "kfold = StratifiedKFold(n_splits=3, shuffle=True, random_state=42)\n",
        "fold = 1\n",
        "\n",
        "# Кросс-валидация на 3 фолда\n",
        "for train_index, val_index in kfold.split(X, y):\n",
        "    X_train_fold, X_val_fold = X.iloc[train_index], X.iloc[val_index]\n",
        "    y_train_fold, y_val_fold = y.iloc[train_index], y.iloc[val_index]\n",
        "\n",
        "    # Стандартизация фолдов\n",
        "    X_train_fold = scaler.fit_transform(X_train_fold)\n",
        "    X_val_fold = scaler.transform(X_val_fold)\n",
        "\n",
        "    # Создание модели\n",
        "    model_new = Sequential([\n",
        "        Dense(128, activation='relu', input_shape=(X_train_fold.shape[1],), kernel_regularizer=l2(0.4)),\n",
        "        Dropout(0.2),\n",
        "        Dense(64, activation='relu', kernel_regularizer=l2(0.6)),\n",
        "        Dropout(0.2),\n",
        "        Dense(32, activation='relu'),\n",
        "        Dense(1, activation='sigmoid')\n",
        "    ])\n",
        "    model_new.compile(optimizer='adam', loss='binary_crossentropy', metrics=['accuracy'])\n",
        "\n",
        "    # Обучение\n",
        "    model_new.fit(X_train_fold, y_train_fold, epochs=13, batch_size=128, validation_split=0.2, verbose=0)\n",
        "\n",
        "    # Оценка модели на фолде\n",
        "    y_pred_fold = (model_new.predict(X_val_fold) > 0.5).astype(int)\n",
        "    print(f'\\nФолд {fold} - Classification Report:\\n{classification_report(y_val_fold, y_pred_fold)}')\n",
        "\n",
        "    # Матрица ошибок\n",
        "    cm = confusion_matrix(y_val_fold, y_pred_fold)\n",
        "    tn, fp, fn, tp = cm.ravel()\n",
        "    print(f\"Фолд {fold} - Confusion Matrix:\\n\", cm)\n",
        "    print(f\"Модель предсказала, что погибнет, а по факту не погиб = {fp}\")\n",
        "    print(f\"Модель предсказала, что выживет, а по факту выжил = {tn}\")\n",
        "    print(f\"Модель предсказала, что выживет, а по факту погиб = {fn}\")\n",
        "    print(f\"Модель предсказала, что погибнет, а по факту погиб = {tp}\\n\")\n",
        "\n",
        "    fold += 1\n",
        "\n",
        "# Evaluate the model\n",
        "loss_new, accuracy_new = model_new.evaluate(X_test, y_test)\n",
        "print(f'Новая модель - Точность на тестовом наборе: {accuracy_new:.2f}')"
      ],
      "metadata": {
        "_uuid": "2f402442-1023-43af-8f00-29d8d22bdad3",
        "_cell_guid": "979d423b-b728-47bc-8103-fccbdd61dc48",
        "jupyter": {
          "outputs_hidden": false
        },
        "execution": {
          "iopub.status.busy": "2024-10-26T14:45:30.050914Z",
          "iopub.execute_input": "2024-10-26T14:45:30.051259Z",
          "iopub.status.idle": "2024-10-26T14:45:38.975918Z",
          "shell.execute_reply.started": "2024-10-26T14:45:30.051224Z",
          "shell.execute_reply": "2024-10-26T14:45:38.974664Z"
        },
        "trusted": true,
        "id": "xfkfBnOW03Vc"
      },
      "execution_count": null,
      "outputs": []
    },
    {
      "cell_type": "code",
      "source": [
        "# Сохранение новой модели\n",
        "model_loaded = joblib.dump(model_new, 'new-fully-connected-model.pkl')"
      ],
      "metadata": {
        "_uuid": "a1d78e59-7a96-4982-aaa6-a6d74781fe58",
        "_cell_guid": "51946a68-e0b2-41a9-9131-6ea54a1cc721",
        "jupyter": {
          "outputs_hidden": false
        },
        "execution": {
          "iopub.status.busy": "2024-10-26T14:45:38.977234Z",
          "iopub.execute_input": "2024-10-26T14:45:38.977592Z",
          "iopub.status.idle": "2024-10-26T14:45:39.011662Z",
          "shell.execute_reply.started": "2024-10-26T14:45:38.977555Z",
          "shell.execute_reply": "2024-10-26T14:45:39.010487Z"
        },
        "trusted": true,
        "id": "rOuii6gC03Ve"
      },
      "execution_count": null,
      "outputs": []
    },
    {
      "cell_type": "code",
      "source": [
        "#model_loaded = joblib.load('fully-connected-model.pkl')"
      ],
      "metadata": {
        "_uuid": "74e26806-0a31-4ddc-a232-7fb51478d7d3",
        "_cell_guid": "0a056dbb-36f3-4c02-bb87-927f0ab87874",
        "jupyter": {
          "outputs_hidden": false
        },
        "execution": {
          "iopub.status.busy": "2024-10-26T14:45:39.013357Z",
          "iopub.execute_input": "2024-10-26T14:45:39.014221Z",
          "iopub.status.idle": "2024-10-26T14:45:39.019129Z",
          "shell.execute_reply.started": "2024-10-26T14:45:39.014168Z",
          "shell.execute_reply": "2024-10-26T14:45:39.017874Z"
        },
        "trusted": true,
        "id": "slsioeq103Ve"
      },
      "execution_count": null,
      "outputs": []
    },
    {
      "cell_type": "code",
      "source": [
        "#model_loaded.predict(X_test)"
      ],
      "metadata": {
        "_uuid": "b613167e-4e08-4614-93aa-8e0d48ffd1e2",
        "_cell_guid": "9925f24b-4ed9-4de8-8145-7eb602a0c020",
        "jupyter": {
          "outputs_hidden": false
        },
        "execution": {
          "iopub.status.busy": "2024-10-26T14:45:39.024220Z",
          "iopub.execute_input": "2024-10-26T14:45:39.024571Z",
          "iopub.status.idle": "2024-10-26T14:45:39.031972Z",
          "shell.execute_reply.started": "2024-10-26T14:45:39.024533Z",
          "shell.execute_reply": "2024-10-26T14:45:39.030801Z"
        },
        "trusted": true,
        "id": "fdZQegKg03Ve"
      },
      "execution_count": null,
      "outputs": []
    },
    {
      "cell_type": "code",
      "source": [],
      "metadata": {
        "_uuid": "7f793f03-10cc-48ae-862f-41aa46c788e9",
        "_cell_guid": "f67791fe-b72b-4e55-b128-5cc7f09973f0",
        "jupyter": {
          "outputs_hidden": false
        },
        "trusted": true,
        "id": "reWFwvXZ03Vk"
      },
      "execution_count": null,
      "outputs": []
    },
    {
      "cell_type": "markdown",
      "source": [
        "Пример хорошего графика"
      ],
      "metadata": {
        "_uuid": "52eee4cd-96a4-4be6-b106-33015e558f7d",
        "_cell_guid": "a79b09ac-b250-4c2b-9eba-6f812b3840f0",
        "trusted": true,
        "id": "FbWORIEr03Vk"
      }
    },
    {
      "cell_type": "markdown",
      "source": [
        "![image.png](attachment:0ce5707c-4979-4011-8cc9-31deae7755cb.png)"
      ],
      "metadata": {
        "_uuid": "c255173a-84bb-4450-a3f2-4fc48d2d74a6",
        "_cell_guid": "584f14a4-2ab3-4068-8d1d-c619abff8d14",
        "trusted": true,
        "id": "VXSuzMju03Vk"
      }
    },
    {
      "cell_type": "code",
      "source": [
        "import matplotlib.pyplot as plt\n",
        "%matplotlib inline\n",
        "history = model_new.fit(X_train, y_train, epochs=10, batch_size=32, validation_split=0.2)\n",
        "plt.plot(history.history['loss'])\n",
        "plt.plot(history.history['val_loss'])\n",
        "plt.title('model loss')\n",
        "plt.ylabel('loss')\n",
        "plt.xlabel('epoch')\n",
        "plt.legend(['train', 'val'], loc='upper left')\n",
        "plt.show()"
      ],
      "metadata": {
        "execution": {
          "iopub.status.busy": "2024-10-26T14:45:39.033434Z",
          "iopub.execute_input": "2024-10-26T14:45:39.033766Z",
          "iopub.status.idle": "2024-10-26T14:45:40.315073Z",
          "shell.execute_reply.started": "2024-10-26T14:45:39.033731Z",
          "shell.execute_reply": "2024-10-26T14:45:40.313785Z"
        },
        "trusted": true,
        "id": "1x36rjwe03Vk"
      },
      "execution_count": null,
      "outputs": []
    },
    {
      "cell_type": "code",
      "source": [
        "# Find Outliers in DataFrame\n",
        "\n",
        "import pandas as pd\n",
        "import numpy as np\n",
        "\n",
        "# Sample DataFrame\n",
        "data = {\n",
        "    'A': [1, 2, 3, 4, 5, 100],\n",
        "    'B': [10, 12, 14, 13, 15, 200],\n",
        "    'C': [5, 6, 7, 8, 9, 300]\n",
        "}\n",
        "\n",
        "df = pd.DataFrame(data)\n",
        "\n",
        "# Function to find outliers\n",
        "def find_outliers(df):\n",
        "    outliers = {}\n",
        "    for column in df.columns:\n",
        "        Q1 = df[column].quantile(0.25)\n",
        "        Q3 = df[column].quantile(0.75)\n",
        "        IQR = Q3 - Q1\n",
        "        lower_bound = Q1 - 1.5 * IQR\n",
        "        upper_bound = Q3 + 1.5 * IQR\n",
        "        outliers[column] = df[(df[column] < lower_bound) | (df[column] > upper_bound)]\n",
        "    return outliers\n",
        "\n",
        "# Get outliers\n",
        "outliers = find_outliers(df)\n",
        "print(outliers)"
      ],
      "metadata": {
        "_uuid": "1f7782c0-3935-43e9-a4dc-f215d8a6e8a4",
        "_cell_guid": "6524f669-ae4b-4c26-a8cd-00e073209eb9",
        "jupyter": {
          "outputs_hidden": false
        },
        "execution": {
          "iopub.status.busy": "2024-10-26T14:45:40.317727Z",
          "iopub.execute_input": "2024-10-26T14:45:40.318157Z",
          "iopub.status.idle": "2024-10-26T14:45:40.342144Z",
          "shell.execute_reply.started": "2024-10-26T14:45:40.318119Z",
          "shell.execute_reply": "2024-10-26T14:45:40.340846Z"
        },
        "trusted": true,
        "id": "EWIo-3x803Vk"
      },
      "execution_count": null,
      "outputs": []
    },
    {
      "cell_type": "code",
      "source": [
        "# Окончательный вывод\n",
        "print(\"Сравнение моделей:\")\n",
        "print(f\"Старая модель - точность на тестовом наборе: {accuracy_old:.2f}\")\n",
        "print(f\"Новая модель - точность на тестовом наборе: {accuracy_new:.2f}\")\n",
        "\n",
        "# Выводы:\n",
        "# У новой матрицы точность на тестовом наборе хуже, но график лучше\n",
        "# Матрица ошибок показала, что модель имеет некоторые ошибки как по типу 'ложных срабатываний' (False Positive), так и 'ложных отрицательных' (False Negative) результатов.\n",
        "# В кросс-валидационной модели ошибки удалось снизить за счет использования нескольких фолдов, что делает новую модель более устойчивой к переобучению.\n",
        "# Новая модель продемонстрировала более стабильные результаты по сравнению с моделью без кросс-валидации."
      ],
      "metadata": {
        "execution": {
          "iopub.status.busy": "2024-10-26T14:45:40.343844Z",
          "iopub.execute_input": "2024-10-26T14:45:40.344287Z",
          "iopub.status.idle": "2024-10-26T14:45:40.351837Z",
          "shell.execute_reply.started": "2024-10-26T14:45:40.344246Z",
          "shell.execute_reply": "2024-10-26T14:45:40.350363Z"
        },
        "trusted": true,
        "id": "GciHceH603Vl"
      },
      "execution_count": null,
      "outputs": []
    },
    {
      "cell_type": "code",
      "source": [],
      "metadata": {
        "_uuid": "538826b1-ef7b-4d61-828b-c895436174bc",
        "_cell_guid": "a9358089-b97b-497d-8751-79e2841e983c",
        "jupyter": {
          "outputs_hidden": false
        },
        "trusted": true,
        "id": "gjPTveQS03Vl"
      },
      "execution_count": null,
      "outputs": []
    }
  ]
}